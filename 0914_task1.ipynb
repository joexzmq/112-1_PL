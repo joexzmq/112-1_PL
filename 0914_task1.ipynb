{
 "cells": [
  {
   "cell_type": "code",
   "execution_count": 2,
   "id": "597d6fb6",
   "metadata": {},
   "outputs": [],
   "source": [
    "import pandas as pd\n",
    "\n",
    "# 讀取多個檔案\n",
    "# 使用 pandas 的 read_csv 函式讀取 CSV 檔案並將其轉換為 DataFrame\n",
    "file_names = ['misterdonut.csv', 'starbucks.csv']  # 將檔案名稱加入清單中\n",
    "dfs = [pd.read_csv(file)['country'] for file in file_names]  # 使用清單推導式讀取country欄位資料"
   ]
  },
  {
   "cell_type": "code",
   "execution_count": 3,
   "id": "b1784a44",
   "metadata": {},
   "outputs": [
    {
     "data": {
      "text/plain": [
       "[0     台灣\n",
       " 1     日本\n",
       " 2    菲律賓\n",
       " 3     泰國\n",
       " 4     上海\n",
       " Name: country, dtype: object,\n",
       " 0           台灣\n",
       " 1          奧地利\n",
       " 2           北京\n",
       " 3          加拿大\n",
       " 4           智利\n",
       " 5         塞浦路斯\n",
       " 6           法國\n",
       " 7           希臘\n",
       " 8          夏威夷\n",
       " 9           香港\n",
       " 10          印尼\n",
       " 11          日本\n",
       " 12          喬丹\n",
       " 13         科威特\n",
       " 14         黎巴嫩\n",
       " 15    澳門S.A.R.\n",
       " 16        馬來西亞\n",
       " 17         墨西哥\n",
       " 18         紐西蘭\n",
       " 19          阿曼\n",
       " 20          北京\n",
       " 21          上海\n",
       " 22      中國華東地區\n",
       " 23      中國華南地區\n",
       " 24          秘魯\n",
       " 25         菲律賓\n",
       " 26        波多里哥\n",
       " 27         卡塔爾\n",
       " 28      沙烏地阿拉伯\n",
       " 29          上海\n",
       " 30          南韓\n",
       " 31         西班牙\n",
       " 32          瑞士\n",
       " 33          臺灣\n",
       " 34         土耳其\n",
       " 35    阿拉伯聯合大公國\n",
       " Name: country, dtype: object]"
      ]
     },
     "execution_count": 3,
     "metadata": {},
     "output_type": "execute_result"
    }
   ],
   "source": [
    "dfs"
   ]
  },
  {
   "cell_type": "code",
   "execution_count": 4,
   "id": "387f38cc",
   "metadata": {},
   "outputs": [],
   "source": [
    "# 將國家名稱轉換為 set 資料型態\n",
    "set_1 = set(dfs[0])\n",
    "set_2 = set(dfs[1])"
   ]
  },
  {
   "cell_type": "code",
   "execution_count": 5,
   "id": "07676a5d",
   "metadata": {},
   "outputs": [
    {
     "data": {
      "text/plain": [
       "{'上海', '台灣', '日本', '泰國', '菲律賓'}"
      ]
     },
     "execution_count": 5,
     "metadata": {},
     "output_type": "execute_result"
    }
   ],
   "source": [
    "set_1"
   ]
  },
  {
   "cell_type": "code",
   "execution_count": 6,
   "id": "4610b5b3",
   "metadata": {},
   "outputs": [
    {
     "data": {
      "text/plain": [
       "{'上海',\n",
       " '中國華南地區',\n",
       " '中國華東地區',\n",
       " '加拿大',\n",
       " '北京',\n",
       " '南韓',\n",
       " '卡塔爾',\n",
       " '印尼',\n",
       " '台灣',\n",
       " '喬丹',\n",
       " '土耳其',\n",
       " '塞浦路斯',\n",
       " '墨西哥',\n",
       " '夏威夷',\n",
       " '奧地利',\n",
       " '希臘',\n",
       " '日本',\n",
       " '智利',\n",
       " '沙烏地阿拉伯',\n",
       " '法國',\n",
       " '波多里哥',\n",
       " '澳門S.A.R.',\n",
       " '瑞士',\n",
       " '科威特',\n",
       " '秘魯',\n",
       " '紐西蘭',\n",
       " '臺灣',\n",
       " '菲律賓',\n",
       " '西班牙',\n",
       " '阿拉伯聯合大公國',\n",
       " '阿曼',\n",
       " '香港',\n",
       " '馬來西亞',\n",
       " '黎巴嫩'}"
      ]
     },
     "execution_count": 6,
     "metadata": {},
     "output_type": "execute_result"
    }
   ],
   "source": [
    "set_2"
   ]
  },
  {
   "cell_type": "code",
   "execution_count": 7,
   "id": "c856515e",
   "metadata": {},
   "outputs": [
    {
     "name": "stdout",
     "output_type": "stream",
     "text": [
      "同時有misterdonut及starbucks的國家地區：\n",
      "{'台灣', '菲律賓', '日本', '上海'}\n"
     ]
    }
   ],
   "source": [
    "# 交集\n",
    "print(\"同時有misterdonut及starbucks的國家地區：\")\n",
    "print( set_1 & set_2 )"
   ]
  },
  {
   "cell_type": "code",
   "execution_count": 8,
   "id": "cd060cbe",
   "metadata": {},
   "outputs": [
    {
     "name": "stdout",
     "output_type": "stream",
     "text": [
      "\n",
      "有misterdonut或starbucks的國家地區：\n",
      "{'希臘', '阿曼', '黎巴嫩', '北京', '夏威夷', '香港', '加拿大', '塞浦路斯', '卡塔爾', '阿拉伯聯合大公國', '沙烏地阿拉伯', '上海', '中國華東地區', '中國華南地區', '台灣', '日本', '臺灣', '奧地利', '波多里哥', '智利', '紐西蘭', '喬丹', '法國', '科威特', '南韓', '泰國', '印尼', '馬來西亞', '土耳其', '菲律賓', '澳門S.A.R.', '墨西哥', '西班牙', '瑞士', '秘魯'}\n"
     ]
    }
   ],
   "source": [
    "# 聯集\n",
    "print(\"\\n有misterdonut或starbucks的國家地區：\")\n",
    "print( set_1 | set_2 )"
   ]
  },
  {
   "cell_type": "code",
   "execution_count": 9,
   "id": "31074f37",
   "metadata": {},
   "outputs": [
    {
     "name": "stdout",
     "output_type": "stream",
     "text": [
      "\n",
      "有misterdonut但沒有starbucks的國家地區：\n",
      "{'泰國'}\n",
      "\n",
      "沒有misterdonut但有starbucks的國家地區：\n",
      "{'希臘', '阿曼', '黎巴嫩', '北京', '香港', '加拿大', '塞浦路斯', '卡塔爾', '阿拉伯聯合大公國', '沙烏地阿拉伯', '中國華東地區', '中國華南地區', '臺灣', '奧地利', '波多里哥', '智利', '秘魯', '紐西蘭', '喬丹', '法國', '科威特', '南韓', '印尼', '馬來西亞', '土耳其', '澳門S.A.R.', '墨西哥', '西班牙', '瑞士', '夏威夷'}\n"
     ]
    }
   ],
   "source": [
    "# 差集\n",
    "print(\"\\n有misterdonut但沒有starbucks的國家地區：\")\n",
    "print( set_1 - (set_1 & set_2) )\n",
    "\n",
    "print(\"\\n沒有misterdonut但有starbucks的國家地區：\")\n",
    "print( set_2 - (set_1 & set_2) )"
   ]
  },
  {
   "cell_type": "code",
   "execution_count": null,
   "id": "5a985f94",
   "metadata": {},
   "outputs": [],
   "source": []
  }
 ],
 "metadata": {
  "kernelspec": {
   "display_name": "Python 3 (ipykernel)",
   "language": "python",
   "name": "python3"
  },
  "language_info": {
   "codemirror_mode": {
    "name": "ipython",
    "version": 3
   },
   "file_extension": ".py",
   "mimetype": "text/x-python",
   "name": "python",
   "nbconvert_exporter": "python",
   "pygments_lexer": "ipython3",
   "version": "3.11.4"
  }
 },
 "nbformat": 4,
 "nbformat_minor": 5
}
