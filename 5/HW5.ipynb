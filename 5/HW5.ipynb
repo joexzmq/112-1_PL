{
 "cells": [
  {
   "cell_type": "code",
   "execution_count": 1,
   "id": "2cbea64b",
   "metadata": {},
   "outputs": [
    {
     "name": "stdout",
     "output_type": "stream",
     "text": [
      "Collecting textblob\n",
      "  Downloading textblob-0.17.1-py2.py3-none-any.whl (636 kB)\n",
      "     ---------------------------------------- 0.0/636.8 kB ? eta -:--:--\n",
      "     -- ---------------------------------- 41.0/636.8 kB 653.6 kB/s eta 0:00:01\n",
      "     --------- ---------------------------- 153.6/636.8 kB 1.5 MB/s eta 0:00:01\n",
      "     ---------------- --------------------- 276.5/636.8 kB 1.9 MB/s eta 0:00:01\n",
      "     ------------------ ------------------- 307.2/636.8 kB 2.1 MB/s eta 0:00:01\n",
      "     --------------------------------- ---- 563.2/636.8 kB 2.5 MB/s eta 0:00:01\n",
      "     -------------------------------------- 636.8/636.8 kB 2.4 MB/s eta 0:00:00\n",
      "Requirement already satisfied: matplotlib in c:\\users\\user\\anaconda3\\lib\\site-packages (3.7.1)\n",
      "Requirement already satisfied: nltk>=3.1 in c:\\users\\user\\anaconda3\\lib\\site-packages (from textblob) (3.8.1)\n",
      "Requirement already satisfied: contourpy>=1.0.1 in c:\\users\\user\\anaconda3\\lib\\site-packages (from matplotlib) (1.0.5)\n",
      "Requirement already satisfied: cycler>=0.10 in c:\\users\\user\\anaconda3\\lib\\site-packages (from matplotlib) (0.11.0)\n",
      "Requirement already satisfied: fonttools>=4.22.0 in c:\\users\\user\\anaconda3\\lib\\site-packages (from matplotlib) (4.25.0)\n",
      "Requirement already satisfied: kiwisolver>=1.0.1 in c:\\users\\user\\anaconda3\\lib\\site-packages (from matplotlib) (1.4.4)\n",
      "Requirement already satisfied: numpy>=1.20 in c:\\users\\user\\anaconda3\\lib\\site-packages (from matplotlib) (1.24.3)\n",
      "Requirement already satisfied: packaging>=20.0 in c:\\users\\user\\anaconda3\\lib\\site-packages (from matplotlib) (23.0)\n",
      "Requirement already satisfied: pillow>=6.2.0 in c:\\users\\user\\anaconda3\\lib\\site-packages (from matplotlib) (9.4.0)\n",
      "Requirement already satisfied: pyparsing>=2.3.1 in c:\\users\\user\\anaconda3\\lib\\site-packages (from matplotlib) (3.0.9)\n",
      "Requirement already satisfied: python-dateutil>=2.7 in c:\\users\\user\\anaconda3\\lib\\site-packages (from matplotlib) (2.8.2)\n",
      "Requirement already satisfied: click in c:\\users\\user\\anaconda3\\lib\\site-packages (from nltk>=3.1->textblob) (8.0.4)\n",
      "Requirement already satisfied: joblib in c:\\users\\user\\anaconda3\\lib\\site-packages (from nltk>=3.1->textblob) (1.2.0)\n",
      "Requirement already satisfied: regex>=2021.8.3 in c:\\users\\user\\anaconda3\\lib\\site-packages (from nltk>=3.1->textblob) (2022.7.9)\n",
      "Requirement already satisfied: tqdm in c:\\users\\user\\anaconda3\\lib\\site-packages (from nltk>=3.1->textblob) (4.65.0)\n",
      "Requirement already satisfied: six>=1.5 in c:\\users\\user\\anaconda3\\lib\\site-packages (from python-dateutil>=2.7->matplotlib) (1.16.0)\n",
      "Requirement already satisfied: colorama in c:\\users\\user\\anaconda3\\lib\\site-packages (from click->nltk>=3.1->textblob) (0.4.6)\n",
      "Installing collected packages: textblob\n",
      "Successfully installed textblob-0.17.1\n",
      "Note: you may need to restart the kernel to use updated packages.\n"
     ]
    }
   ],
   "source": [
    "pip install textblob matplotlib"
   ]
  },
  {
   "cell_type": "code",
   "execution_count": 5,
   "id": "90005be1",
   "metadata": {},
   "outputs": [
    {
     "name": "stdout",
     "output_type": "stream",
     "text": [
      "Requirement already satisfied: nltk in c:\\users\\user\\anaconda3\\lib\\site-packages (3.8.1)Note: you may need to restart the kernel to use updated packages.\n",
      "\n",
      "Requirement already satisfied: click in c:\\users\\user\\anaconda3\\lib\\site-packages (from nltk) (8.0.4)\n",
      "Requirement already satisfied: joblib in c:\\users\\user\\anaconda3\\lib\\site-packages (from nltk) (1.2.0)\n",
      "Requirement already satisfied: regex>=2021.8.3 in c:\\users\\user\\anaconda3\\lib\\site-packages (from nltk) (2022.7.9)\n",
      "Requirement already satisfied: tqdm in c:\\users\\user\\anaconda3\\lib\\site-packages (from nltk) (4.65.0)\n",
      "Requirement already satisfied: colorama in c:\\users\\user\\anaconda3\\lib\\site-packages (from click->nltk) (0.4.6)\n"
     ]
    }
   ],
   "source": [
    "pip install nltk"
   ]
  },
  {
   "cell_type": "code",
   "execution_count": 23,
   "id": "79b23c5f",
   "metadata": {},
   "outputs": [
    {
     "name": "stdout",
     "output_type": "stream",
     "text": [
      "Requirement already satisfied: plotly in c:\\users\\user\\anaconda3\\lib\\site-packages (5.9.0)\n",
      "Requirement already satisfied: tenacity>=6.2.0 in c:\\users\\user\\anaconda3\\lib\\site-packages (from plotly) (8.2.2)\n",
      "Note: you may need to restart the kernel to use updated packages.\n"
     ]
    }
   ],
   "source": [
    "pip install plotly"
   ]
  },
  {
   "cell_type": "code",
   "execution_count": 39,
   "id": "ac41673e",
   "metadata": {},
   "outputs": [
    {
     "name": "stderr",
     "output_type": "stream",
     "text": [
      "[nltk_data] Downloading package averaged_perceptron_tagger to\n",
      "[nltk_data]     C:\\Users\\User\\AppData\\Roaming\\nltk_data...\n",
      "[nltk_data]   Package averaged_perceptron_tagger is already up-to-\n",
      "[nltk_data]       date!\n"
     ]
    },
    {
     "data": {
      "text/plain": [
       "True"
      ]
     },
     "execution_count": 39,
     "metadata": {},
     "output_type": "execute_result"
    }
   ],
   "source": [
    "import nltk\n",
    "nltk.download('averaged_perceptron_tagger')"
   ]
  },
  {
   "cell_type": "code",
   "execution_count": 43,
   "id": "42ee34c7",
   "metadata": {},
   "outputs": [
    {
     "name": "stdout",
     "output_type": "stream",
     "text": [
      "POS Ratios: {'JJ': 0.002325581395348837, 'NNP': 0.9842192691029901, 'VBD': 0.00016611295681063124, 'VBZ': 0.000664451827242525, 'VBP': 0.0009966777408637873, 'NN': 0.008970099667774087, 'VBG': 0.0003322259136212625, 'MD': 0.0004983388704318936, 'VB': 0.0004983388704318936, 'NNS': 0.0011627906976744186, 'PRP': 0.00016611295681063124}\n"
     ]
    },
    {
     "data": {
      "application/vnd.plotly.v1+json": {
       "config": {
        "plotlyServerURL": "https://plot.ly"
       },
       "data": [
        {
         "alignmentgroup": "True",
         "hovertemplate": "POS=%{x}<br>Ratio=%{y}<extra></extra>",
         "legendgroup": "",
         "marker": {
          "color": "#636efa",
          "pattern": {
           "shape": ""
          }
         },
         "name": "",
         "offsetgroup": "",
         "orientation": "v",
         "showlegend": false,
         "textposition": "auto",
         "type": "bar",
         "x": [
          "JJ",
          "NNP",
          "VBD",
          "VBZ",
          "VBP",
          "NN",
          "VBG",
          "MD",
          "VB",
          "NNS",
          "PRP"
         ],
         "xaxis": "x",
         "y": [
          0.002325581395348837,
          0.9842192691029901,
          0.00016611295681063124,
          0.000664451827242525,
          0.0009966777408637873,
          0.008970099667774087,
          0.0003322259136212625,
          0.0004983388704318936,
          0.0004983388704318936,
          0.0011627906976744186,
          0.00016611295681063124
         ],
         "yaxis": "y"
        }
       ],
       "layout": {
        "barmode": "relative",
        "legend": {
         "tracegroupgap": 0
        },
        "margin": {
         "t": 60
        },
        "template": {
         "data": {
          "bar": [
           {
            "error_x": {
             "color": "#2a3f5f"
            },
            "error_y": {
             "color": "#2a3f5f"
            },
            "marker": {
             "line": {
              "color": "#E5ECF6",
              "width": 0.5
             },
             "pattern": {
              "fillmode": "overlay",
              "size": 10,
              "solidity": 0.2
             }
            },
            "type": "bar"
           }
          ],
          "barpolar": [
           {
            "marker": {
             "line": {
              "color": "#E5ECF6",
              "width": 0.5
             },
             "pattern": {
              "fillmode": "overlay",
              "size": 10,
              "solidity": 0.2
             }
            },
            "type": "barpolar"
           }
          ],
          "carpet": [
           {
            "aaxis": {
             "endlinecolor": "#2a3f5f",
             "gridcolor": "white",
             "linecolor": "white",
             "minorgridcolor": "white",
             "startlinecolor": "#2a3f5f"
            },
            "baxis": {
             "endlinecolor": "#2a3f5f",
             "gridcolor": "white",
             "linecolor": "white",
             "minorgridcolor": "white",
             "startlinecolor": "#2a3f5f"
            },
            "type": "carpet"
           }
          ],
          "choropleth": [
           {
            "colorbar": {
             "outlinewidth": 0,
             "ticks": ""
            },
            "type": "choropleth"
           }
          ],
          "contour": [
           {
            "colorbar": {
             "outlinewidth": 0,
             "ticks": ""
            },
            "colorscale": [
             [
              0,
              "#0d0887"
             ],
             [
              0.1111111111111111,
              "#46039f"
             ],
             [
              0.2222222222222222,
              "#7201a8"
             ],
             [
              0.3333333333333333,
              "#9c179e"
             ],
             [
              0.4444444444444444,
              "#bd3786"
             ],
             [
              0.5555555555555556,
              "#d8576b"
             ],
             [
              0.6666666666666666,
              "#ed7953"
             ],
             [
              0.7777777777777778,
              "#fb9f3a"
             ],
             [
              0.8888888888888888,
              "#fdca26"
             ],
             [
              1,
              "#f0f921"
             ]
            ],
            "type": "contour"
           }
          ],
          "contourcarpet": [
           {
            "colorbar": {
             "outlinewidth": 0,
             "ticks": ""
            },
            "type": "contourcarpet"
           }
          ],
          "heatmap": [
           {
            "colorbar": {
             "outlinewidth": 0,
             "ticks": ""
            },
            "colorscale": [
             [
              0,
              "#0d0887"
             ],
             [
              0.1111111111111111,
              "#46039f"
             ],
             [
              0.2222222222222222,
              "#7201a8"
             ],
             [
              0.3333333333333333,
              "#9c179e"
             ],
             [
              0.4444444444444444,
              "#bd3786"
             ],
             [
              0.5555555555555556,
              "#d8576b"
             ],
             [
              0.6666666666666666,
              "#ed7953"
             ],
             [
              0.7777777777777778,
              "#fb9f3a"
             ],
             [
              0.8888888888888888,
              "#fdca26"
             ],
             [
              1,
              "#f0f921"
             ]
            ],
            "type": "heatmap"
           }
          ],
          "heatmapgl": [
           {
            "colorbar": {
             "outlinewidth": 0,
             "ticks": ""
            },
            "colorscale": [
             [
              0,
              "#0d0887"
             ],
             [
              0.1111111111111111,
              "#46039f"
             ],
             [
              0.2222222222222222,
              "#7201a8"
             ],
             [
              0.3333333333333333,
              "#9c179e"
             ],
             [
              0.4444444444444444,
              "#bd3786"
             ],
             [
              0.5555555555555556,
              "#d8576b"
             ],
             [
              0.6666666666666666,
              "#ed7953"
             ],
             [
              0.7777777777777778,
              "#fb9f3a"
             ],
             [
              0.8888888888888888,
              "#fdca26"
             ],
             [
              1,
              "#f0f921"
             ]
            ],
            "type": "heatmapgl"
           }
          ],
          "histogram": [
           {
            "marker": {
             "pattern": {
              "fillmode": "overlay",
              "size": 10,
              "solidity": 0.2
             }
            },
            "type": "histogram"
           }
          ],
          "histogram2d": [
           {
            "colorbar": {
             "outlinewidth": 0,
             "ticks": ""
            },
            "colorscale": [
             [
              0,
              "#0d0887"
             ],
             [
              0.1111111111111111,
              "#46039f"
             ],
             [
              0.2222222222222222,
              "#7201a8"
             ],
             [
              0.3333333333333333,
              "#9c179e"
             ],
             [
              0.4444444444444444,
              "#bd3786"
             ],
             [
              0.5555555555555556,
              "#d8576b"
             ],
             [
              0.6666666666666666,
              "#ed7953"
             ],
             [
              0.7777777777777778,
              "#fb9f3a"
             ],
             [
              0.8888888888888888,
              "#fdca26"
             ],
             [
              1,
              "#f0f921"
             ]
            ],
            "type": "histogram2d"
           }
          ],
          "histogram2dcontour": [
           {
            "colorbar": {
             "outlinewidth": 0,
             "ticks": ""
            },
            "colorscale": [
             [
              0,
              "#0d0887"
             ],
             [
              0.1111111111111111,
              "#46039f"
             ],
             [
              0.2222222222222222,
              "#7201a8"
             ],
             [
              0.3333333333333333,
              "#9c179e"
             ],
             [
              0.4444444444444444,
              "#bd3786"
             ],
             [
              0.5555555555555556,
              "#d8576b"
             ],
             [
              0.6666666666666666,
              "#ed7953"
             ],
             [
              0.7777777777777778,
              "#fb9f3a"
             ],
             [
              0.8888888888888888,
              "#fdca26"
             ],
             [
              1,
              "#f0f921"
             ]
            ],
            "type": "histogram2dcontour"
           }
          ],
          "mesh3d": [
           {
            "colorbar": {
             "outlinewidth": 0,
             "ticks": ""
            },
            "type": "mesh3d"
           }
          ],
          "parcoords": [
           {
            "line": {
             "colorbar": {
              "outlinewidth": 0,
              "ticks": ""
             }
            },
            "type": "parcoords"
           }
          ],
          "pie": [
           {
            "automargin": true,
            "type": "pie"
           }
          ],
          "scatter": [
           {
            "fillpattern": {
             "fillmode": "overlay",
             "size": 10,
             "solidity": 0.2
            },
            "type": "scatter"
           }
          ],
          "scatter3d": [
           {
            "line": {
             "colorbar": {
              "outlinewidth": 0,
              "ticks": ""
             }
            },
            "marker": {
             "colorbar": {
              "outlinewidth": 0,
              "ticks": ""
             }
            },
            "type": "scatter3d"
           }
          ],
          "scattercarpet": [
           {
            "marker": {
             "colorbar": {
              "outlinewidth": 0,
              "ticks": ""
             }
            },
            "type": "scattercarpet"
           }
          ],
          "scattergeo": [
           {
            "marker": {
             "colorbar": {
              "outlinewidth": 0,
              "ticks": ""
             }
            },
            "type": "scattergeo"
           }
          ],
          "scattergl": [
           {
            "marker": {
             "colorbar": {
              "outlinewidth": 0,
              "ticks": ""
             }
            },
            "type": "scattergl"
           }
          ],
          "scattermapbox": [
           {
            "marker": {
             "colorbar": {
              "outlinewidth": 0,
              "ticks": ""
             }
            },
            "type": "scattermapbox"
           }
          ],
          "scatterpolar": [
           {
            "marker": {
             "colorbar": {
              "outlinewidth": 0,
              "ticks": ""
             }
            },
            "type": "scatterpolar"
           }
          ],
          "scatterpolargl": [
           {
            "marker": {
             "colorbar": {
              "outlinewidth": 0,
              "ticks": ""
             }
            },
            "type": "scatterpolargl"
           }
          ],
          "scatterternary": [
           {
            "marker": {
             "colorbar": {
              "outlinewidth": 0,
              "ticks": ""
             }
            },
            "type": "scatterternary"
           }
          ],
          "surface": [
           {
            "colorbar": {
             "outlinewidth": 0,
             "ticks": ""
            },
            "colorscale": [
             [
              0,
              "#0d0887"
             ],
             [
              0.1111111111111111,
              "#46039f"
             ],
             [
              0.2222222222222222,
              "#7201a8"
             ],
             [
              0.3333333333333333,
              "#9c179e"
             ],
             [
              0.4444444444444444,
              "#bd3786"
             ],
             [
              0.5555555555555556,
              "#d8576b"
             ],
             [
              0.6666666666666666,
              "#ed7953"
             ],
             [
              0.7777777777777778,
              "#fb9f3a"
             ],
             [
              0.8888888888888888,
              "#fdca26"
             ],
             [
              1,
              "#f0f921"
             ]
            ],
            "type": "surface"
           }
          ],
          "table": [
           {
            "cells": {
             "fill": {
              "color": "#EBF0F8"
             },
             "line": {
              "color": "white"
             }
            },
            "header": {
             "fill": {
              "color": "#C8D4E3"
             },
             "line": {
              "color": "white"
             }
            },
            "type": "table"
           }
          ]
         },
         "layout": {
          "annotationdefaults": {
           "arrowcolor": "#2a3f5f",
           "arrowhead": 0,
           "arrowwidth": 1
          },
          "autotypenumbers": "strict",
          "coloraxis": {
           "colorbar": {
            "outlinewidth": 0,
            "ticks": ""
           }
          },
          "colorscale": {
           "diverging": [
            [
             0,
             "#8e0152"
            ],
            [
             0.1,
             "#c51b7d"
            ],
            [
             0.2,
             "#de77ae"
            ],
            [
             0.3,
             "#f1b6da"
            ],
            [
             0.4,
             "#fde0ef"
            ],
            [
             0.5,
             "#f7f7f7"
            ],
            [
             0.6,
             "#e6f5d0"
            ],
            [
             0.7,
             "#b8e186"
            ],
            [
             0.8,
             "#7fbc41"
            ],
            [
             0.9,
             "#4d9221"
            ],
            [
             1,
             "#276419"
            ]
           ],
           "sequential": [
            [
             0,
             "#0d0887"
            ],
            [
             0.1111111111111111,
             "#46039f"
            ],
            [
             0.2222222222222222,
             "#7201a8"
            ],
            [
             0.3333333333333333,
             "#9c179e"
            ],
            [
             0.4444444444444444,
             "#bd3786"
            ],
            [
             0.5555555555555556,
             "#d8576b"
            ],
            [
             0.6666666666666666,
             "#ed7953"
            ],
            [
             0.7777777777777778,
             "#fb9f3a"
            ],
            [
             0.8888888888888888,
             "#fdca26"
            ],
            [
             1,
             "#f0f921"
            ]
           ],
           "sequentialminus": [
            [
             0,
             "#0d0887"
            ],
            [
             0.1111111111111111,
             "#46039f"
            ],
            [
             0.2222222222222222,
             "#7201a8"
            ],
            [
             0.3333333333333333,
             "#9c179e"
            ],
            [
             0.4444444444444444,
             "#bd3786"
            ],
            [
             0.5555555555555556,
             "#d8576b"
            ],
            [
             0.6666666666666666,
             "#ed7953"
            ],
            [
             0.7777777777777778,
             "#fb9f3a"
            ],
            [
             0.8888888888888888,
             "#fdca26"
            ],
            [
             1,
             "#f0f921"
            ]
           ]
          },
          "colorway": [
           "#636efa",
           "#EF553B",
           "#00cc96",
           "#ab63fa",
           "#FFA15A",
           "#19d3f3",
           "#FF6692",
           "#B6E880",
           "#FF97FF",
           "#FECB52"
          ],
          "font": {
           "color": "#2a3f5f"
          },
          "geo": {
           "bgcolor": "white",
           "lakecolor": "white",
           "landcolor": "#E5ECF6",
           "showlakes": true,
           "showland": true,
           "subunitcolor": "white"
          },
          "hoverlabel": {
           "align": "left"
          },
          "hovermode": "closest",
          "mapbox": {
           "style": "light"
          },
          "paper_bgcolor": "white",
          "plot_bgcolor": "#E5ECF6",
          "polar": {
           "angularaxis": {
            "gridcolor": "white",
            "linecolor": "white",
            "ticks": ""
           },
           "bgcolor": "#E5ECF6",
           "radialaxis": {
            "gridcolor": "white",
            "linecolor": "white",
            "ticks": ""
           }
          },
          "scene": {
           "xaxis": {
            "backgroundcolor": "#E5ECF6",
            "gridcolor": "white",
            "gridwidth": 2,
            "linecolor": "white",
            "showbackground": true,
            "ticks": "",
            "zerolinecolor": "white"
           },
           "yaxis": {
            "backgroundcolor": "#E5ECF6",
            "gridcolor": "white",
            "gridwidth": 2,
            "linecolor": "white",
            "showbackground": true,
            "ticks": "",
            "zerolinecolor": "white"
           },
           "zaxis": {
            "backgroundcolor": "#E5ECF6",
            "gridcolor": "white",
            "gridwidth": 2,
            "linecolor": "white",
            "showbackground": true,
            "ticks": "",
            "zerolinecolor": "white"
           }
          },
          "shapedefaults": {
           "line": {
            "color": "#2a3f5f"
           }
          },
          "ternary": {
           "aaxis": {
            "gridcolor": "white",
            "linecolor": "white",
            "ticks": ""
           },
           "baxis": {
            "gridcolor": "white",
            "linecolor": "white",
            "ticks": ""
           },
           "bgcolor": "#E5ECF6",
           "caxis": {
            "gridcolor": "white",
            "linecolor": "white",
            "ticks": ""
           }
          },
          "title": {
           "x": 0.05
          },
          "xaxis": {
           "automargin": true,
           "gridcolor": "white",
           "linecolor": "white",
           "ticks": "",
           "title": {
            "standoff": 15
           },
           "zerolinecolor": "white",
           "zerolinewidth": 2
          },
          "yaxis": {
           "automargin": true,
           "gridcolor": "white",
           "linecolor": "white",
           "ticks": "",
           "title": {
            "standoff": 15
           },
           "zerolinecolor": "white",
           "zerolinewidth": 2
          }
         }
        },
        "title": {
         "text": "POS Ratio Bar Chart"
        },
        "xaxis": {
         "anchor": "y",
         "domain": [
          0,
          1
         ],
         "title": {
          "text": "POS"
         }
        },
        "yaxis": {
         "anchor": "x",
         "domain": [
          0,
          1
         ],
         "title": {
          "text": "Ratio"
         }
        }
       }
      },
      "text/html": [
       "<div>                            <div id=\"e3cade07-fd9b-468b-93df-b0921eafec8e\" class=\"plotly-graph-div\" style=\"height:525px; width:100%;\"></div>            <script type=\"text/javascript\">                require([\"plotly\"], function(Plotly) {                    window.PLOTLYENV=window.PLOTLYENV || {};                                    if (document.getElementById(\"e3cade07-fd9b-468b-93df-b0921eafec8e\")) {                    Plotly.newPlot(                        \"e3cade07-fd9b-468b-93df-b0921eafec8e\",                        [{\"alignmentgroup\":\"True\",\"hovertemplate\":\"POS=%{x}<br>Ratio=%{y}<extra></extra>\",\"legendgroup\":\"\",\"marker\":{\"color\":\"#636efa\",\"pattern\":{\"shape\":\"\"}},\"name\":\"\",\"offsetgroup\":\"\",\"orientation\":\"v\",\"showlegend\":false,\"textposition\":\"auto\",\"x\":[\"JJ\",\"NNP\",\"VBD\",\"VBZ\",\"VBP\",\"NN\",\"VBG\",\"MD\",\"VB\",\"NNS\",\"PRP\"],\"xaxis\":\"x\",\"y\":[0.002325581395348837,0.9842192691029901,0.00016611295681063124,0.000664451827242525,0.0009966777408637873,0.008970099667774087,0.0003322259136212625,0.0004983388704318936,0.0004983388704318936,0.0011627906976744186,0.00016611295681063124],\"yaxis\":\"y\",\"type\":\"bar\"}],                        {\"template\":{\"data\":{\"histogram2dcontour\":[{\"type\":\"histogram2dcontour\",\"colorbar\":{\"outlinewidth\":0,\"ticks\":\"\"},\"colorscale\":[[0.0,\"#0d0887\"],[0.1111111111111111,\"#46039f\"],[0.2222222222222222,\"#7201a8\"],[0.3333333333333333,\"#9c179e\"],[0.4444444444444444,\"#bd3786\"],[0.5555555555555556,\"#d8576b\"],[0.6666666666666666,\"#ed7953\"],[0.7777777777777778,\"#fb9f3a\"],[0.8888888888888888,\"#fdca26\"],[1.0,\"#f0f921\"]]}],\"choropleth\":[{\"type\":\"choropleth\",\"colorbar\":{\"outlinewidth\":0,\"ticks\":\"\"}}],\"histogram2d\":[{\"type\":\"histogram2d\",\"colorbar\":{\"outlinewidth\":0,\"ticks\":\"\"},\"colorscale\":[[0.0,\"#0d0887\"],[0.1111111111111111,\"#46039f\"],[0.2222222222222222,\"#7201a8\"],[0.3333333333333333,\"#9c179e\"],[0.4444444444444444,\"#bd3786\"],[0.5555555555555556,\"#d8576b\"],[0.6666666666666666,\"#ed7953\"],[0.7777777777777778,\"#fb9f3a\"],[0.8888888888888888,\"#fdca26\"],[1.0,\"#f0f921\"]]}],\"heatmap\":[{\"type\":\"heatmap\",\"colorbar\":{\"outlinewidth\":0,\"ticks\":\"\"},\"colorscale\":[[0.0,\"#0d0887\"],[0.1111111111111111,\"#46039f\"],[0.2222222222222222,\"#7201a8\"],[0.3333333333333333,\"#9c179e\"],[0.4444444444444444,\"#bd3786\"],[0.5555555555555556,\"#d8576b\"],[0.6666666666666666,\"#ed7953\"],[0.7777777777777778,\"#fb9f3a\"],[0.8888888888888888,\"#fdca26\"],[1.0,\"#f0f921\"]]}],\"heatmapgl\":[{\"type\":\"heatmapgl\",\"colorbar\":{\"outlinewidth\":0,\"ticks\":\"\"},\"colorscale\":[[0.0,\"#0d0887\"],[0.1111111111111111,\"#46039f\"],[0.2222222222222222,\"#7201a8\"],[0.3333333333333333,\"#9c179e\"],[0.4444444444444444,\"#bd3786\"],[0.5555555555555556,\"#d8576b\"],[0.6666666666666666,\"#ed7953\"],[0.7777777777777778,\"#fb9f3a\"],[0.8888888888888888,\"#fdca26\"],[1.0,\"#f0f921\"]]}],\"contourcarpet\":[{\"type\":\"contourcarpet\",\"colorbar\":{\"outlinewidth\":0,\"ticks\":\"\"}}],\"contour\":[{\"type\":\"contour\",\"colorbar\":{\"outlinewidth\":0,\"ticks\":\"\"},\"colorscale\":[[0.0,\"#0d0887\"],[0.1111111111111111,\"#46039f\"],[0.2222222222222222,\"#7201a8\"],[0.3333333333333333,\"#9c179e\"],[0.4444444444444444,\"#bd3786\"],[0.5555555555555556,\"#d8576b\"],[0.6666666666666666,\"#ed7953\"],[0.7777777777777778,\"#fb9f3a\"],[0.8888888888888888,\"#fdca26\"],[1.0,\"#f0f921\"]]}],\"surface\":[{\"type\":\"surface\",\"colorbar\":{\"outlinewidth\":0,\"ticks\":\"\"},\"colorscale\":[[0.0,\"#0d0887\"],[0.1111111111111111,\"#46039f\"],[0.2222222222222222,\"#7201a8\"],[0.3333333333333333,\"#9c179e\"],[0.4444444444444444,\"#bd3786\"],[0.5555555555555556,\"#d8576b\"],[0.6666666666666666,\"#ed7953\"],[0.7777777777777778,\"#fb9f3a\"],[0.8888888888888888,\"#fdca26\"],[1.0,\"#f0f921\"]]}],\"mesh3d\":[{\"type\":\"mesh3d\",\"colorbar\":{\"outlinewidth\":0,\"ticks\":\"\"}}],\"scatter\":[{\"fillpattern\":{\"fillmode\":\"overlay\",\"size\":10,\"solidity\":0.2},\"type\":\"scatter\"}],\"parcoords\":[{\"type\":\"parcoords\",\"line\":{\"colorbar\":{\"outlinewidth\":0,\"ticks\":\"\"}}}],\"scatterpolargl\":[{\"type\":\"scatterpolargl\",\"marker\":{\"colorbar\":{\"outlinewidth\":0,\"ticks\":\"\"}}}],\"bar\":[{\"error_x\":{\"color\":\"#2a3f5f\"},\"error_y\":{\"color\":\"#2a3f5f\"},\"marker\":{\"line\":{\"color\":\"#E5ECF6\",\"width\":0.5},\"pattern\":{\"fillmode\":\"overlay\",\"size\":10,\"solidity\":0.2}},\"type\":\"bar\"}],\"scattergeo\":[{\"type\":\"scattergeo\",\"marker\":{\"colorbar\":{\"outlinewidth\":0,\"ticks\":\"\"}}}],\"scatterpolar\":[{\"type\":\"scatterpolar\",\"marker\":{\"colorbar\":{\"outlinewidth\":0,\"ticks\":\"\"}}}],\"histogram\":[{\"marker\":{\"pattern\":{\"fillmode\":\"overlay\",\"size\":10,\"solidity\":0.2}},\"type\":\"histogram\"}],\"scattergl\":[{\"type\":\"scattergl\",\"marker\":{\"colorbar\":{\"outlinewidth\":0,\"ticks\":\"\"}}}],\"scatter3d\":[{\"type\":\"scatter3d\",\"line\":{\"colorbar\":{\"outlinewidth\":0,\"ticks\":\"\"}},\"marker\":{\"colorbar\":{\"outlinewidth\":0,\"ticks\":\"\"}}}],\"scattermapbox\":[{\"type\":\"scattermapbox\",\"marker\":{\"colorbar\":{\"outlinewidth\":0,\"ticks\":\"\"}}}],\"scatterternary\":[{\"type\":\"scatterternary\",\"marker\":{\"colorbar\":{\"outlinewidth\":0,\"ticks\":\"\"}}}],\"scattercarpet\":[{\"type\":\"scattercarpet\",\"marker\":{\"colorbar\":{\"outlinewidth\":0,\"ticks\":\"\"}}}],\"carpet\":[{\"aaxis\":{\"endlinecolor\":\"#2a3f5f\",\"gridcolor\":\"white\",\"linecolor\":\"white\",\"minorgridcolor\":\"white\",\"startlinecolor\":\"#2a3f5f\"},\"baxis\":{\"endlinecolor\":\"#2a3f5f\",\"gridcolor\":\"white\",\"linecolor\":\"white\",\"minorgridcolor\":\"white\",\"startlinecolor\":\"#2a3f5f\"},\"type\":\"carpet\"}],\"table\":[{\"cells\":{\"fill\":{\"color\":\"#EBF0F8\"},\"line\":{\"color\":\"white\"}},\"header\":{\"fill\":{\"color\":\"#C8D4E3\"},\"line\":{\"color\":\"white\"}},\"type\":\"table\"}],\"barpolar\":[{\"marker\":{\"line\":{\"color\":\"#E5ECF6\",\"width\":0.5},\"pattern\":{\"fillmode\":\"overlay\",\"size\":10,\"solidity\":0.2}},\"type\":\"barpolar\"}],\"pie\":[{\"automargin\":true,\"type\":\"pie\"}]},\"layout\":{\"autotypenumbers\":\"strict\",\"colorway\":[\"#636efa\",\"#EF553B\",\"#00cc96\",\"#ab63fa\",\"#FFA15A\",\"#19d3f3\",\"#FF6692\",\"#B6E880\",\"#FF97FF\",\"#FECB52\"],\"font\":{\"color\":\"#2a3f5f\"},\"hovermode\":\"closest\",\"hoverlabel\":{\"align\":\"left\"},\"paper_bgcolor\":\"white\",\"plot_bgcolor\":\"#E5ECF6\",\"polar\":{\"bgcolor\":\"#E5ECF6\",\"angularaxis\":{\"gridcolor\":\"white\",\"linecolor\":\"white\",\"ticks\":\"\"},\"radialaxis\":{\"gridcolor\":\"white\",\"linecolor\":\"white\",\"ticks\":\"\"}},\"ternary\":{\"bgcolor\":\"#E5ECF6\",\"aaxis\":{\"gridcolor\":\"white\",\"linecolor\":\"white\",\"ticks\":\"\"},\"baxis\":{\"gridcolor\":\"white\",\"linecolor\":\"white\",\"ticks\":\"\"},\"caxis\":{\"gridcolor\":\"white\",\"linecolor\":\"white\",\"ticks\":\"\"}},\"coloraxis\":{\"colorbar\":{\"outlinewidth\":0,\"ticks\":\"\"}},\"colorscale\":{\"sequential\":[[0.0,\"#0d0887\"],[0.1111111111111111,\"#46039f\"],[0.2222222222222222,\"#7201a8\"],[0.3333333333333333,\"#9c179e\"],[0.4444444444444444,\"#bd3786\"],[0.5555555555555556,\"#d8576b\"],[0.6666666666666666,\"#ed7953\"],[0.7777777777777778,\"#fb9f3a\"],[0.8888888888888888,\"#fdca26\"],[1.0,\"#f0f921\"]],\"sequentialminus\":[[0.0,\"#0d0887\"],[0.1111111111111111,\"#46039f\"],[0.2222222222222222,\"#7201a8\"],[0.3333333333333333,\"#9c179e\"],[0.4444444444444444,\"#bd3786\"],[0.5555555555555556,\"#d8576b\"],[0.6666666666666666,\"#ed7953\"],[0.7777777777777778,\"#fb9f3a\"],[0.8888888888888888,\"#fdca26\"],[1.0,\"#f0f921\"]],\"diverging\":[[0,\"#8e0152\"],[0.1,\"#c51b7d\"],[0.2,\"#de77ae\"],[0.3,\"#f1b6da\"],[0.4,\"#fde0ef\"],[0.5,\"#f7f7f7\"],[0.6,\"#e6f5d0\"],[0.7,\"#b8e186\"],[0.8,\"#7fbc41\"],[0.9,\"#4d9221\"],[1,\"#276419\"]]},\"xaxis\":{\"gridcolor\":\"white\",\"linecolor\":\"white\",\"ticks\":\"\",\"title\":{\"standoff\":15},\"zerolinecolor\":\"white\",\"automargin\":true,\"zerolinewidth\":2},\"yaxis\":{\"gridcolor\":\"white\",\"linecolor\":\"white\",\"ticks\":\"\",\"title\":{\"standoff\":15},\"zerolinecolor\":\"white\",\"automargin\":true,\"zerolinewidth\":2},\"scene\":{\"xaxis\":{\"backgroundcolor\":\"#E5ECF6\",\"gridcolor\":\"white\",\"linecolor\":\"white\",\"showbackground\":true,\"ticks\":\"\",\"zerolinecolor\":\"white\",\"gridwidth\":2},\"yaxis\":{\"backgroundcolor\":\"#E5ECF6\",\"gridcolor\":\"white\",\"linecolor\":\"white\",\"showbackground\":true,\"ticks\":\"\",\"zerolinecolor\":\"white\",\"gridwidth\":2},\"zaxis\":{\"backgroundcolor\":\"#E5ECF6\",\"gridcolor\":\"white\",\"linecolor\":\"white\",\"showbackground\":true,\"ticks\":\"\",\"zerolinecolor\":\"white\",\"gridwidth\":2}},\"shapedefaults\":{\"line\":{\"color\":\"#2a3f5f\"}},\"annotationdefaults\":{\"arrowcolor\":\"#2a3f5f\",\"arrowhead\":0,\"arrowwidth\":1},\"geo\":{\"bgcolor\":\"white\",\"landcolor\":\"#E5ECF6\",\"subunitcolor\":\"white\",\"showland\":true,\"showlakes\":true,\"lakecolor\":\"white\"},\"title\":{\"x\":0.05},\"mapbox\":{\"style\":\"light\"}}},\"xaxis\":{\"anchor\":\"y\",\"domain\":[0.0,1.0],\"title\":{\"text\":\"POS\"}},\"yaxis\":{\"anchor\":\"x\",\"domain\":[0.0,1.0],\"title\":{\"text\":\"Ratio\"}},\"legend\":{\"tracegroupgap\":0},\"margin\":{\"t\":60},\"barmode\":\"relative\",\"title\":{\"text\":\"POS Ratio Bar Chart\"}},                        {\"responsive\": true}                    ).then(function(){\n",
       "                            \n",
       "var gd = document.getElementById('e3cade07-fd9b-468b-93df-b0921eafec8e');\n",
       "var x = new MutationObserver(function (mutations, observer) {{\n",
       "        var display = window.getComputedStyle(gd).display;\n",
       "        if (!display || display === 'none') {{\n",
       "            console.log([gd, 'removed!']);\n",
       "            Plotly.purge(gd);\n",
       "            observer.disconnect();\n",
       "        }}\n",
       "}});\n",
       "\n",
       "// Listen for the removal of the full notebook cells\n",
       "var notebookContainer = gd.closest('#notebook-container');\n",
       "if (notebookContainer) {{\n",
       "    x.observe(notebookContainer, {childList: true});\n",
       "}}\n",
       "\n",
       "// Listen for the clearing of the current output cell\n",
       "var outputEl = gd.closest('.output');\n",
       "if (outputEl) {{\n",
       "    x.observe(outputEl, {childList: true});\n",
       "}}\n",
       "\n",
       "                        })                };                });            </script>        </div>"
      ]
     },
     "metadata": {},
     "output_type": "display_data"
    }
   ],
   "source": [
    "import re\n",
    "import string\n",
    "import pandas as pd\n",
    "import jieba\n",
    "import seaborn as sns\n",
    "import plotly.express as px\n",
    "import plotly.graph_objects as go\n",
    "from nltk import pos_tag\n",
    "from textblob import TextBlob\n",
    "\n",
    "# 讀取文本文件\n",
    "with open('tp.txt', 'r', encoding='utf-8') as file:\n",
    "    text_content = file.read()\n",
    "\n",
    "# 移除中英文以外的字符\n",
    "pattern = r'[^A-Za-z\\u4e00-\\u9fa5]+'\n",
    "text_content = re.sub(pattern, '', text_content)\n",
    "\n",
    "# 使用jieba進行中文分詞\n",
    "seg_list = jieba.cut(text_content, cut_all=False)\n",
    "text_content = ' '.join(seg_list)\n",
    "\n",
    "# 使用TextBlob進行情感分析\n",
    "blob = TextBlob(text_content)\n",
    "\n",
    "# 使用nltk的pos_tag獲取詞性\n",
    "pos_tags = pos_tag(blob.words)\n",
    "\n",
    "# 計算詞性比例\n",
    "pos_counts = {}\n",
    "total_words = len(pos_tags)\n",
    "for word, pos in pos_tags:\n",
    "    pos_counts[pos] = pos_counts.get(pos, 0) + 1\n",
    "\n",
    "pos_ratios = {pos: count / total_words for pos, count in pos_counts.items()}\n",
    "print('POS Ratios:', pos_ratios)\n",
    "\n",
    "# 生成長條圖\n",
    "fig_bar = px.bar(x=list(pos_ratios.keys()), y=list(pos_ratios.values()), labels={'x': 'POS', 'y': 'Ratio'})\n",
    "fig_bar.update_layout(title='POS Ratio Bar Chart')\n",
    "fig_bar.show()\n"
   ]
  },
  {
   "cell_type": "code",
   "execution_count": null,
   "id": "f984282d",
   "metadata": {},
   "outputs": [],
   "source": [
    "詞性英文參考資料：https://www.ibm.com/docs/zh/wca/3.5.0?topic=analytics-part-speech-tag-sets"
   ]
  },
  {
   "cell_type": "code",
   "execution_count": 44,
   "id": "ebe71b0e",
   "metadata": {},
   "outputs": [
    {
     "name": "stderr",
     "output_type": "stream",
     "text": [
      "findfont: Generic family 'sans-serif' not found because none of the following families were found: AdobeFanHeitiStd-Bold.otf\n",
      "findfont: Generic family 'sans-serif' not found because none of the following families were found: AdobeFanHeitiStd-Bold.otf\n",
      "findfont: Generic family 'sans-serif' not found because none of the following families were found: AdobeFanHeitiStd-Bold.otf\n",
      "findfont: Generic family 'sans-serif' not found because none of the following families were found: AdobeFanHeitiStd-Bold.otf\n",
      "findfont: Generic family 'sans-serif' not found because none of the following families were found: AdobeFanHeitiStd-Bold.otf\n",
      "findfont: Generic family 'sans-serif' not found because none of the following families were found: AdobeFanHeitiStd-Bold.otf\n",
      "findfont: Generic family 'sans-serif' not found because none of the following families were found: AdobeFanHeitiStd-Bold.otf\n",
      "findfont: Generic family 'sans-serif' not found because none of the following families were found: AdobeFanHeitiStd-Bold.otf\n",
      "findfont: Generic family 'sans-serif' not found because none of the following families were found: AdobeFanHeitiStd-Bold.otf\n",
      "findfont: Generic family 'sans-serif' not found because none of the following families were found: AdobeFanHeitiStd-Bold.otf\n",
      "findfont: Generic family 'sans-serif' not found because none of the following families were found: AdobeFanHeitiStd-Bold.otf\n",
      "findfont: Generic family 'sans-serif' not found because none of the following families were found: AdobeFanHeitiStd-Bold.otf\n",
      "findfont: Generic family 'sans-serif' not found because none of the following families were found: AdobeFanHeitiStd-Bold.otf\n",
      "findfont: Generic family 'sans-serif' not found because none of the following families were found: AdobeFanHeitiStd-Bold.otf\n",
      "findfont: Generic family 'sans-serif' not found because none of the following families were found: AdobeFanHeitiStd-Bold.otf\n",
      "findfont: Generic family 'sans-serif' not found because none of the following families were found: AdobeFanHeitiStd-Bold.otf\n",
      "findfont: Generic family 'sans-serif' not found because none of the following families were found: AdobeFanHeitiStd-Bold.otf\n",
      "findfont: Generic family 'sans-serif' not found because none of the following families were found: AdobeFanHeitiStd-Bold.otf\n",
      "findfont: Generic family 'sans-serif' not found because none of the following families were found: AdobeFanHeitiStd-Bold.otf\n",
      "findfont: Generic family 'sans-serif' not found because none of the following families were found: AdobeFanHeitiStd-Bold.otf\n",
      "findfont: Generic family 'sans-serif' not found because none of the following families were found: AdobeFanHeitiStd-Bold.otf\n",
      "findfont: Generic family 'sans-serif' not found because none of the following families were found: AdobeFanHeitiStd-Bold.otf\n",
      "findfont: Generic family 'sans-serif' not found because none of the following families were found: AdobeFanHeitiStd-Bold.otf\n",
      "findfont: Generic family 'sans-serif' not found because none of the following families were found: AdobeFanHeitiStd-Bold.otf\n",
      "findfont: Generic family 'sans-serif' not found because none of the following families were found: AdobeFanHeitiStd-Bold.otf\n",
      "findfont: Generic family 'sans-serif' not found because none of the following families were found: AdobeFanHeitiStd-Bold.otf\n",
      "findfont: Generic family 'sans-serif' not found because none of the following families were found: AdobeFanHeitiStd-Bold.otf\n",
      "findfont: Generic family 'sans-serif' not found because none of the following families were found: AdobeFanHeitiStd-Bold.otf\n",
      "findfont: Generic family 'sans-serif' not found because none of the following families were found: AdobeFanHeitiStd-Bold.otf\n",
      "findfont: Generic family 'sans-serif' not found because none of the following families were found: AdobeFanHeitiStd-Bold.otf\n",
      "findfont: Generic family 'sans-serif' not found because none of the following families were found: AdobeFanHeitiStd-Bold.otf\n",
      "findfont: Generic family 'sans-serif' not found because none of the following families were found: AdobeFanHeitiStd-Bold.otf\n",
      "findfont: Generic family 'sans-serif' not found because none of the following families were found: AdobeFanHeitiStd-Bold.otf\n",
      "findfont: Generic family 'sans-serif' not found because none of the following families were found: AdobeFanHeitiStd-Bold.otf\n",
      "findfont: Generic family 'sans-serif' not found because none of the following families were found: AdobeFanHeitiStd-Bold.otf\n",
      "findfont: Generic family 'sans-serif' not found because none of the following families were found: AdobeFanHeitiStd-Bold.otf\n",
      "findfont: Generic family 'sans-serif' not found because none of the following families were found: AdobeFanHeitiStd-Bold.otf\n",
      "findfont: Generic family 'sans-serif' not found because none of the following families were found: AdobeFanHeitiStd-Bold.otf\n",
      "findfont: Generic family 'sans-serif' not found because none of the following families were found: AdobeFanHeitiStd-Bold.otf\n",
      "findfont: Generic family 'sans-serif' not found because none of the following families were found: AdobeFanHeitiStd-Bold.otf\n",
      "findfont: Generic family 'sans-serif' not found because none of the following families were found: AdobeFanHeitiStd-Bold.otf\n",
      "findfont: Generic family 'sans-serif' not found because none of the following families were found: AdobeFanHeitiStd-Bold.otf\n",
      "findfont: Generic family 'sans-serif' not found because none of the following families were found: AdobeFanHeitiStd-Bold.otf\n",
      "findfont: Generic family 'sans-serif' not found because none of the following families were found: AdobeFanHeitiStd-Bold.otf\n",
      "findfont: Generic family 'sans-serif' not found because none of the following families were found: AdobeFanHeitiStd-Bold.otf\n",
      "findfont: Generic family 'sans-serif' not found because none of the following families were found: AdobeFanHeitiStd-Bold.otf\n",
      "findfont: Generic family 'sans-serif' not found because none of the following families were found: AdobeFanHeitiStd-Bold.otf\n",
      "findfont: Generic family 'sans-serif' not found because none of the following families were found: AdobeFanHeitiStd-Bold.otf\n",
      "findfont: Generic family 'sans-serif' not found because none of the following families were found: AdobeFanHeitiStd-Bold.otf\n",
      "findfont: Generic family 'sans-serif' not found because none of the following families were found: AdobeFanHeitiStd-Bold.otf\n",
      "findfont: Generic family 'sans-serif' not found because none of the following families were found: AdobeFanHeitiStd-Bold.otf\n",
      "findfont: Generic family 'sans-serif' not found because none of the following families were found: AdobeFanHeitiStd-Bold.otf\n",
      "findfont: Generic family 'sans-serif' not found because none of the following families were found: AdobeFanHeitiStd-Bold.otf\n",
      "findfont: Generic family 'sans-serif' not found because none of the following families were found: AdobeFanHeitiStd-Bold.otf\n",
      "findfont: Generic family 'sans-serif' not found because none of the following families were found: AdobeFanHeitiStd-Bold.otf\n",
      "findfont: Generic family 'sans-serif' not found because none of the following families were found: AdobeFanHeitiStd-Bold.otf\n",
      "findfont: Generic family 'sans-serif' not found because none of the following families were found: AdobeFanHeitiStd-Bold.otf\n",
      "findfont: Generic family 'sans-serif' not found because none of the following families were found: AdobeFanHeitiStd-Bold.otf\n",
      "findfont: Generic family 'sans-serif' not found because none of the following families were found: AdobeFanHeitiStd-Bold.otf\n",
      "findfont: Generic family 'sans-serif' not found because none of the following families were found: AdobeFanHeitiStd-Bold.otf\n",
      "findfont: Generic family 'sans-serif' not found because none of the following families were found: AdobeFanHeitiStd-Bold.otf\n",
      "findfont: Generic family 'sans-serif' not found because none of the following families were found: AdobeFanHeitiStd-Bold.otf\n",
      "findfont: Generic family 'sans-serif' not found because none of the following families were found: AdobeFanHeitiStd-Bold.otf\n"
     ]
    },
    {
     "data": {
      "image/png": "[encoded data removed]",
      "text/plain": [
       "<Figure size 800x800 with 1 Axes>"
      ]
     },
     "metadata": {},
     "output_type": "display_data"
    }
   ],
   "source": [
    "import matplotlib.pyplot as plt\n",
    "\n",
    "# 你提供的詞性比例字典\n",
    "pos_ratios = {'JJ': 0.002325581395348837, 'NNP': 0.9842192691029901, 'VBD': 0.00016611295681063124,\n",
    "              'VBZ': 0.000664451827242525, 'VBP': 0.0009966777408637873, 'NN': 0.008970099667774087,\n",
    "              'VBG': 0.0003322259136212625, 'MD': 0.0004983388704318936, 'VB': 0.0004983388704318936,\n",
    "              'NNS': 0.0011627906976744186, 'PRP': 0.00016611295681063124}\n",
    "\n",
    "# 排除 'NNP' 的詞性\n",
    "filtered_pos_ratios = {pos: ratio for pos, ratio in pos_ratios.items() if pos != 'NNP'}\n",
    "\n",
    "# 製作圓餅圖\n",
    "plt.figure(figsize=(8, 8))\n",
    "plt.pie(filtered_pos_ratios.values(), labels=filtered_pos_ratios.keys(), autopct='%1.1f%%', startangle=140)\n",
    "plt.title('POS Ratios (Excluding NNP)')\n",
    "plt.show()"
   ]
  },
  {
   "cell_type": "code",
   "execution_count": 55,
   "id": "5ba9bed2",
   "metadata": {},
   "outputs": [],
   "source": [
    "# 移除中文以外的字符\n",
    "pattern = r'[^\\u4e00-\\u9fa5]+'\n",
    "text_content = re.sub(pattern, '', text_content)\n",
    "\n",
    "# 使用jieba進行中文分詞\n",
    "seg_list = jieba.cut(text_content, cut_all=False)\n",
    "text_content = ''.join(seg_list)\n",
    "\n",
    "# 移除一些常見的中文停用詞\n",
    "stopwords = [\"的\", \"在\", \"是\", \"與\", \"對\", \"於\", \"而\", \"了\", \"也\", \"為\", \"或\"]\n",
    "text_content = ''.join([word for word in text_content if word not in stopwords])"
   ]
  },
  {
   "cell_type": "code",
   "execution_count": 54,
   "id": "107e71cc",
   "metadata": {},
   "outputs": [
    {
     "name": "stdout",
     "output_type": "stream",
     "text": [
      "Top 10 Word Pairs: [('教育', 69), ('主義', 52), ('概念', 37), ('哲學', 37), ('分析', 34), ('經驗', 34), ('理論', 19), ('思想', 18), ('觀念', 18), ('理性', 17)]\n"
     ]
    }
   ],
   "source": [
    "from collections import Counter\n",
    "\n",
    "# 以兩個字為一組進行分詞\n",
    "word_pairs = [text_content[i:i+2] for i in range(0, len(text_content)-1, 2)]\n",
    "\n",
    "# 使用 Counter 進行統計\n",
    "word_pairs_counter = Counter(word_pairs)\n",
    "\n",
    "# 取出前 10 項\n",
    "top_10_word_pairs = word_pairs_counter.most_common(10)\n",
    "\n",
    "# 顯示結果\n",
    "print('Top 10 Word Pairs:', top_10_word_pairs)"
   ]
  },
  {
   "cell_type": "code",
   "execution_count": 68,
   "id": "5db376c0",
   "metadata": {},
   "outputs": [
    {
     "name": "stderr",
     "output_type": "stream",
     "text": [
      "findfont: Generic family 'sans-serif' not found because none of the following families were found: AdobeFanHeitiStd-Bold.otf\n",
      "findfont: Generic family 'sans-serif' not found because none of the following families were found: AdobeFanHeitiStd-Bold.otf\n",
      "findfont: Generic family 'sans-serif' not found because none of the following families were found: AdobeFanHeitiStd-Bold.otf\n",
      "findfont: Generic family 'sans-serif' not found because none of the following families were found: AdobeFanHeitiStd-Bold.otf\n",
      "findfont: Generic family 'sans-serif' not found because none of the following families were found: AdobeFanHeitiStd-Bold.otf\n",
      "findfont: Generic family 'sans-serif' not found because none of the following families were found: AdobeFanHeitiStd-Bold.otf\n",
      "findfont: Generic family 'sans-serif' not found because none of the following families were found: AdobeFanHeitiStd-Bold.otf\n",
      "findfont: Generic family 'sans-serif' not found because none of the following families were found: AdobeFanHeitiStd-Bold.otf\n",
      "findfont: Generic family 'sans-serif' not found because none of the following families were found: AdobeFanHeitiStd-Bold.otf\n",
      "findfont: Generic family 'sans-serif' not found because none of the following families were found: AdobeFanHeitiStd-Bold.otf\n",
      "findfont: Generic family 'sans-serif' not found because none of the following families were found: AdobeFanHeitiStd-Bold.otf\n",
      "findfont: Generic family 'sans-serif' not found because none of the following families were found: AdobeFanHeitiStd-Bold.otf\n",
      "findfont: Generic family 'sans-serif' not found because none of the following families were found: AdobeFanHeitiStd-Bold.otf\n",
      "findfont: Generic family 'sans-serif' not found because none of the following families were found: AdobeFanHeitiStd-Bold.otf\n",
      "findfont: Generic family 'sans-serif' not found because none of the following families were found: AdobeFanHeitiStd-Bold.otf\n",
      "findfont: Generic family 'sans-serif' not found because none of the following families were found: AdobeFanHeitiStd-Bold.otf\n",
      "findfont: Generic family 'sans-serif' not found because none of the following families were found: AdobeFanHeitiStd-Bold.otf\n",
      "findfont: Generic family 'sans-serif' not found because none of the following families were found: AdobeFanHeitiStd-Bold.otf\n",
      "findfont: Generic family 'sans-serif' not found because none of the following families were found: AdobeFanHeitiStd-Bold.otf\n",
      "findfont: Generic family 'sans-serif' not found because none of the following families were found: AdobeFanHeitiStd-Bold.otf\n",
      "findfont: Generic family 'sans-serif' not found because none of the following families were found: AdobeFanHeitiStd-Bold.otf\n",
      "findfont: Generic family 'sans-serif' not found because none of the following families were found: AdobeFanHeitiStd-Bold.otf\n",
      "findfont: Generic family 'sans-serif' not found because none of the following families were found: AdobeFanHeitiStd-Bold.otf\n",
      "findfont: Generic family 'sans-serif' not found because none of the following families were found: AdobeFanHeitiStd-Bold.otf\n",
      "findfont: Generic family 'sans-serif' not found because none of the following families were found: AdobeFanHeitiStd-Bold.otf\n",
      "findfont: Generic family 'sans-serif' not found because none of the following families were found: AdobeFanHeitiStd-Bold.otf\n",
      "findfont: Generic family 'sans-serif' not found because none of the following families were found: AdobeFanHeitiStd-Bold.otf\n",
      "findfont: Generic family 'sans-serif' not found because none of the following families were found: AdobeFanHeitiStd-Bold.otf\n",
      "findfont: Generic family 'sans-serif' not found because none of the following families were found: AdobeFanHeitiStd-Bold.otf\n",
      "findfont: Generic family 'sans-serif' not found because none of the following families were found: AdobeFanHeitiStd-Bold.otf\n",
      "findfont: Generic family 'sans-serif' not found because none of the following families were found: AdobeFanHeitiStd-Bold.otf\n",
      "findfont: Generic family 'sans-serif' not found because none of the following families were found: AdobeFanHeitiStd-Bold.otf\n",
      "findfont: Generic family 'sans-serif' not found because none of the following families were found: AdobeFanHeitiStd-Bold.otf\n",
      "findfont: Generic family 'sans-serif' not found because none of the following families were found: AdobeFanHeitiStd-Bold.otf\n",
      "findfont: Generic family 'sans-serif' not found because none of the following families were found: AdobeFanHeitiStd-Bold.otf\n",
      "findfont: Generic family 'sans-serif' not found because none of the following families were found: AdobeFanHeitiStd-Bold.otf\n",
      "findfont: Generic family 'sans-serif' not found because none of the following families were found: AdobeFanHeitiStd-Bold.otf\n",
      "findfont: Generic family 'sans-serif' not found because none of the following families were found: AdobeFanHeitiStd-Bold.otf\n",
      "findfont: Generic family 'sans-serif' not found because none of the following families were found: AdobeFanHeitiStd-Bold.otf\n",
      "findfont: Generic family 'sans-serif' not found because none of the following families were found: AdobeFanHeitiStd-Bold.otf\n",
      "findfont: Generic family 'sans-serif' not found because none of the following families were found: AdobeFanHeitiStd-Bold.otf\n",
      "findfont: Generic family 'sans-serif' not found because none of the following families were found: AdobeFanHeitiStd-Bold.otf\n",
      "findfont: Generic family 'sans-serif' not found because none of the following families were found: AdobeFanHeitiStd-Bold.otf\n",
      "findfont: Generic family 'sans-serif' not found because none of the following families were found: AdobeFanHeitiStd-Bold.otf\n",
      "findfont: Generic family 'sans-serif' not found because none of the following families were found: AdobeFanHeitiStd-Bold.otf\n",
      "findfont: Generic family 'sans-serif' not found because none of the following families were found: AdobeFanHeitiStd-Bold.otf\n",
      "findfont: Generic family 'sans-serif' not found because none of the following families were found: AdobeFanHeitiStd-Bold.otf\n",
      "findfont: Generic family 'sans-serif' not found because none of the following families were found: AdobeFanHeitiStd-Bold.otf\n",
      "findfont: Generic family 'sans-serif' not found because none of the following families were found: AdobeFanHeitiStd-Bold.otf\n",
      "findfont: Generic family 'sans-serif' not found because none of the following families were found: AdobeFanHeitiStd-Bold.otf\n",
      "findfont: Generic family 'sans-serif' not found because none of the following families were found: AdobeFanHeitiStd-Bold.otf\n",
      "findfont: Generic family 'sans-serif' not found because none of the following families were found: AdobeFanHeitiStd-Bold.otf\n",
      "findfont: Generic family 'sans-serif' not found because none of the following families were found: AdobeFanHeitiStd-Bold.otf\n",
      "findfont: Generic family 'sans-serif' not found because none of the following families were found: AdobeFanHeitiStd-Bold.otf\n",
      "findfont: Generic family 'sans-serif' not found because none of the following families were found: AdobeFanHeitiStd-Bold.otf\n",
      "findfont: Generic family 'sans-serif' not found because none of the following families were found: AdobeFanHeitiStd-Bold.otf\n",
      "findfont: Generic family 'sans-serif' not found because none of the following families were found: AdobeFanHeitiStd-Bold.otf\n",
      "findfont: Generic family 'sans-serif' not found because none of the following families were found: AdobeFanHeitiStd-Bold.otf\n",
      "findfont: Generic family 'sans-serif' not found because none of the following families were found: AdobeFanHeitiStd-Bold.otf\n",
      "findfont: Generic family 'sans-serif' not found because none of the following families were found: AdobeFanHeitiStd-Bold.otf\n",
      "findfont: Generic family 'sans-serif' not found because none of the following families were found: AdobeFanHeitiStd-Bold.otf\n"
     ]
    },
    {
     "data": {
      "image/png": "[encoded data removed]",
      "text/plain": [
       "<Figure size 1000x600 with 1 Axes>"
      ]
     },
     "metadata": {},
     "output_type": "display_data"
    }
   ],
   "source": [
    "# 提取詞彙和頻率\n",
    "words, frequencies = zip(*top_10_word_pairs)\n",
    "\n",
    "# 繪製點狀分布圖\n",
    "plt.figure(figsize=(10, 6))\n",
    "plt.scatter(words, frequencies, s=100, c='blue', alpha=0.7)\n",
    "plt.title('Scatter Plot of Top 10 Word Pairs')\n",
    "plt.xlabel('Word Pairs')\n",
    "plt.ylabel('Frequency')\n",
    "plt.xticks(rotation=30, ha='right')  # 使 x 軸標籤斜向顯示，以免重疊\n",
    "plt.show()"
   ]
  },
  {
   "cell_type": "code",
   "execution_count": null,
   "id": "a628662b",
   "metadata": {},
   "outputs": [],
   "source": []
  }
 ],
 "metadata": {
  "kernelspec": {
   "display_name": "Python 3 (ipykernel)",
   "language": "python",
   "name": "python3"
  },
  "language_info": {
   "codemirror_mode": {
    "name": "ipython",
    "version": 3
   },
   "file_extension": ".py",
   "mimetype": "text/x-python",
   "name": "python",
   "nbconvert_exporter": "python",
   "pygments_lexer": "ipython3",
   "version": "3.11.4"
  }
 },
 "nbformat": 4,
 "nbformat_minor": 5
}
