import pandas as pd

# 讀取多個檔案
# 使用 pandas 的 read_csv 函式讀取 CSV 檔案並將其轉換為 DataFrame
file_names = ['misterdonut.csv', 'starbucks.csv']  # 將檔案名稱加入清單中
dfs = [pd.read_csv(file)['country'] for file in file_names]  # 使用清單推導式讀取country欄位資料

# 將國家名稱轉換為 set 資料型態
set_1 = set(dfs[0])
set_2 = set(dfs[1])

# 交集
print("同時有misterdonut及starbucks的國家地區：")
print( set_1 & set_2 )

# 聯集
print("\n有misterdonut或starbucks的國家地區：")
print( set_1 | set_2 )

# 差集
print("\n有misterdonut但沒有starbucks的國家地區：")
print( set_1 - (set_1 & set_2) )

print("\n沒有misterdonut但有starbucks的國家地區：")
print( set_2 - (set_1 & set_2) )